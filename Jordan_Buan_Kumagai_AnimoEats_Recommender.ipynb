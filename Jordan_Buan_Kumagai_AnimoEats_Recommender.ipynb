{
 "cells": [
  {
   "cell_type": "markdown",
   "id": "0a5afa4c-21db-4579-8989-1c88ce72f4c4",
   "metadata": {},
   "source": [
    "<h1>Restaurant Recommender System For AnimoEats</h1>\n",
    "\n",
    "This recommendation system, built with TensorFlow, employs User-Item Collaborative Filtering to suggest the top three restaurants that best suit the concurrent user."
   ]
  },
  {
   "cell_type": "code",
   "execution_count": 3,
   "id": "7b3a773e-c5e4-4953-a00f-94fb536721da",
   "metadata": {
    "tags": []
   },
   "outputs": [
    {
     "name": "stdout",
     "output_type": "stream",
     "text": [
      "Epoch 1/30\n",
      "14887/14887 [==============================] - 18s 1ms/step - loss: 32.3015 - mae: 1.8566 - mse: 32.3015 - val_loss: 0.3841 - val_mae: 0.4090 - val_mse: 0.3841\n",
      "Epoch 2/30\n",
      "14887/14887 [==============================] - 18s 1ms/step - loss: 0.9768 - mae: 0.5583 - mse: 0.9768 - val_loss: 0.0442 - val_mae: 0.1622 - val_mse: 0.0442\n",
      "Epoch 3/30\n",
      "14887/14887 [==============================] - 19s 1ms/step - loss: 0.1795 - mae: 0.2006 - mse: 0.1795 - val_loss: 0.0131 - val_mae: 0.0911 - val_mse: 0.0131\n",
      "Epoch 4/30\n",
      "14887/14887 [==============================] - 20s 1ms/step - loss: 0.0701 - mae: 0.1442 - mse: 0.0701 - val_loss: 0.1409 - val_mae: 0.2998 - val_mse: 0.1409\n",
      "Epoch 5/30\n",
      "14887/14887 [==============================] - 21s 1ms/step - loss: 0.0642 - mae: 0.1280 - mse: 0.0642 - val_loss: 0.0061 - val_mae: 0.0528 - val_mse: 0.0061\n",
      "Epoch 6/30\n",
      "14887/14887 [==============================] - 20s 1ms/step - loss: 0.0447 - mae: 0.1033 - mse: 0.0447 - val_loss: 0.0031 - val_mae: 0.0383 - val_mse: 0.0031\n",
      "Epoch 7/30\n",
      "14887/14887 [==============================] - 20s 1ms/step - loss: 0.0411 - mae: 0.0950 - mse: 0.0411 - val_loss: 0.0017 - val_mae: 0.0307 - val_mse: 0.0017\n",
      "Epoch 8/30\n",
      "14887/14887 [==============================] - 27s 2ms/step - loss: 0.0214 - mae: 0.0715 - mse: 0.0214 - val_loss: 0.0021 - val_mae: 0.0401 - val_mse: 0.0021\n",
      "Epoch 9/30\n",
      "14887/14887 [==============================] - 55s 4ms/step - loss: 0.0233 - mae: 0.0720 - mse: 0.0233 - val_loss: 5.8468e-04 - val_mae: 0.0173 - val_mse: 5.8468e-04\n",
      "Epoch 10/30\n",
      "14887/14887 [==============================] - 50s 3ms/step - loss: 0.0174 - mae: 0.0622 - mse: 0.0174 - val_loss: 0.0032 - val_mae: 0.0371 - val_mse: 0.0032\n",
      "Epoch 11/30\n",
      "14887/14887 [==============================] - 48s 3ms/step - loss: 0.0195 - mae: 0.0626 - mse: 0.0195 - val_loss: 0.0049 - val_mae: 0.0433 - val_mse: 0.0049\n",
      "Epoch 12/30\n",
      "14887/14887 [==============================] - 52s 3ms/step - loss: 0.0246 - mae: 0.0608 - mse: 0.0246 - val_loss: 0.0324 - val_mae: 0.1501 - val_mse: 0.0324\n",
      "Epoch 13/30\n",
      "14887/14887 [==============================] - 52s 3ms/step - loss: 0.0166 - mae: 0.0599 - mse: 0.0166 - val_loss: 0.0024 - val_mae: 0.0436 - val_mse: 0.0024\n",
      "Epoch 14/30\n",
      "14887/14887 [==============================] - 45s 3ms/step - loss: 0.0132 - mae: 0.0548 - mse: 0.0132 - val_loss: 0.0011 - val_mae: 0.0234 - val_mse: 0.0011\n",
      "Epoch 15/30\n",
      "14887/14887 [==============================] - 48s 3ms/step - loss: 0.0141 - mae: 0.0502 - mse: 0.0141 - val_loss: 0.0018 - val_mae: 0.0279 - val_mse: 0.0018\n",
      "Epoch 16/30\n",
      "14887/14887 [==============================] - 50s 3ms/step - loss: 0.0093 - mae: 0.0453 - mse: 0.0093 - val_loss: 4.2802e-04 - val_mae: 0.0141 - val_mse: 4.2802e-04\n",
      "Epoch 17/30\n",
      "14887/14887 [==============================] - 45s 3ms/step - loss: 0.0178 - mae: 0.0487 - mse: 0.0178 - val_loss: 3.3234e-04 - val_mae: 0.0154 - val_mse: 3.3234e-04\n",
      "Epoch 18/30\n",
      "14887/14887 [==============================] - 46s 3ms/step - loss: 0.0138 - mae: 0.0451 - mse: 0.0138 - val_loss: 0.0034 - val_mae: 0.0415 - val_mse: 0.0034\n",
      "Epoch 19/30\n",
      "14887/14887 [==============================] - 53s 4ms/step - loss: 0.0102 - mae: 0.0407 - mse: 0.0102 - val_loss: 4.9771e-04 - val_mae: 0.0188 - val_mse: 4.9771e-04\n",
      "Epoch 20/30\n",
      "14887/14887 [==============================] - 44s 3ms/step - loss: 0.0146 - mae: 0.0431 - mse: 0.0146 - val_loss: 0.0010 - val_mae: 0.0226 - val_mse: 0.0010\n",
      "Epoch 21/30\n",
      "14887/14887 [==============================] - 46s 3ms/step - loss: 0.0091 - mae: 0.0388 - mse: 0.0091 - val_loss: 4.4493e-04 - val_mae: 0.0157 - val_mse: 4.4493e-04\n",
      "Epoch 22/30\n",
      "14887/14887 [==============================] - 46s 3ms/step - loss: 0.0099 - mae: 0.0390 - mse: 0.0099 - val_loss: 0.0020 - val_mae: 0.0373 - val_mse: 0.0020\n",
      "Epoch 23/30\n",
      "14887/14887 [==============================] - 47s 3ms/step - loss: 0.0086 - mae: 0.0409 - mse: 0.0086 - val_loss: 3.1193e-04 - val_mae: 0.0126 - val_mse: 3.1193e-04\n",
      "Epoch 24/30\n",
      "14887/14887 [==============================] - 45s 3ms/step - loss: 0.0078 - mae: 0.0383 - mse: 0.0078 - val_loss: 0.0061 - val_mae: 0.0700 - val_mse: 0.0061\n",
      "Epoch 25/30\n",
      "14887/14887 [==============================] - 45s 3ms/step - loss: 0.0115 - mae: 0.0357 - mse: 0.0115 - val_loss: 5.0545e-04 - val_mae: 0.0156 - val_mse: 5.0545e-04\n",
      "Epoch 26/30\n",
      "14887/14887 [==============================] - 46s 3ms/step - loss: 0.0047 - mae: 0.0306 - mse: 0.0047 - val_loss: 0.0019 - val_mae: 0.0321 - val_mse: 0.0019\n",
      "Epoch 27/30\n",
      "14887/14887 [==============================] - 44s 3ms/step - loss: 0.0084 - mae: 0.0340 - mse: 0.0084 - val_loss: 2.2711e-04 - val_mae: 0.0110 - val_mse: 2.2711e-04\n",
      "Epoch 28/30\n",
      "14887/14887 [==============================] - 45s 3ms/step - loss: 0.0083 - mae: 0.0355 - mse: 0.0083 - val_loss: 3.8478e-04 - val_mae: 0.0152 - val_mse: 3.8478e-04\n",
      "Epoch 29/30\n",
      "14887/14887 [==============================] - 45s 3ms/step - loss: 0.0074 - mae: 0.0296 - mse: 0.0074 - val_loss: 9.0033e-04 - val_mae: 0.0246 - val_mse: 9.0033e-04\n",
      "Epoch 30/30\n",
      "14887/14887 [==============================] - 46s 3ms/step - loss: 0.0107 - mae: 0.0351 - mse: 0.0107 - val_loss: 2.1268e-04 - val_mae: 0.0111 - val_mse: 2.1268e-04\n"
     ]
    }
   ],
   "source": [
    "import numpy as np\n",
    "import pandas as pd\n",
    "from sklearn.model_selection import train_test_split\n",
    "import tensorflow as tf\n",
    "from tensorflow.keras.models import Model\n",
    "from tensorflow.keras.layers import Input, Embedding, Flatten, Dense, Concatenate\n",
    "\n",
    "# Assume you have a DataFrame named 'data' with the specified columns\n",
    "\n",
    "data = pd.read_csv(\"orders.csv\")\n",
    "\n",
    "# Convert categorical features to numerical codes\n",
    "data['customer_id'] = data['customer_id'].astype(\"category\").cat.codes\n",
    "data['vendor_id'] = data['vendor_id'].astype(\"category\").cat.codes\n",
    "\n",
    "# Split the data into training and testing sets\n",
    "train_df, test_df = train_test_split(data, test_size=0.2, random_state=42)\n",
    "\n",
    "# Define the embedding size\n",
    "embedding_size = 10\n",
    "\n",
    "# Define the input layers\n",
    "customer_input = Input(shape=(1,), name='customer_input')\n",
    "vendor_input = Input(shape=(1,), name='vendor_input')\n",
    "other_features_input = Input(shape=(6,), name='other_features_input')  # Assuming 7 additional features\n",
    "\n",
    "# Embedding layers for customer and vendor\n",
    "customer_embedding = Embedding(input_dim=data['customer_id'].nunique(), output_dim=embedding_size, input_length=1)(customer_input)\n",
    "vendor_embedding = Embedding(input_dim=data['vendor_id'].nunique(), output_dim=embedding_size, input_length=1)(vendor_input)\n",
    "\n",
    "# Flatten the embeddings\n",
    "customer_flatten = Flatten()(customer_embedding)\n",
    "vendor_flatten = Flatten()(vendor_embedding)\n",
    "\n",
    "# Concatenate the flattened embeddings with other features\n",
    "concatenated = Concatenate()([customer_flatten, vendor_flatten, other_features_input])\n",
    "\n",
    "# Dense layers for the neural network\n",
    "dense1 = Dense(50, activation='relu')(concatenated)\n",
    "dense2 = Dense(20, activation='relu')(dense1)\n",
    "output = Dense(1)(dense2)\n",
    "\n",
    "# Create and compile the model\n",
    "model = Model(inputs=[customer_input, vendor_input, other_features_input], outputs=output)\n",
    "model.compile(optimizer='adam', loss='mean_squared_error', metrics=['mae', 'mse'])\n",
    "\n",
    "# Train the model\n",
    "history = model.fit(\n",
    "    [train_df['customer_id'], train_df['vendor_id'], train_df[['item_count', 'grand_total_php', 'deliverydistance', 'preparationtime', 'LOCATION_NUMBER', 'vendor_rating']]],\n",
    "    train_df['vendor_rating'],\n",
    "    epochs=30,\n",
    "    batch_size=1,\n",
    "    validation_data=([test_df['customer_id'], test_df['vendor_id'], test_df[['item_count', 'grand_total_php', 'deliverydistance', 'preparationtime', 'LOCATION_NUMBER', 'vendor_rating']]], test_df['vendor_rating']),\n",
    "    verbose=1\n",
    ")\n"
   ]
  },
  {
   "cell_type": "code",
   "execution_count": 4,
   "id": "bbb2a9cd-c29c-4529-a834-b1019fbfacc6",
   "metadata": {
    "tags": []
   },
   "outputs": [
    {
     "data": {
      "text/plain": [
       "Index(['akeed_order_id', 'customer_id', 'item_count', 'grand_total',\n",
       "       'grand_total_php', 'deliverydistance', 'preparationtime',\n",
       "       'LOCATION_NUMBER', 'vendor_id', 'vendor_name', 'vendor_rating',\n",
       "       'compound_score_conv'],\n",
       "      dtype='object')"
      ]
     },
     "execution_count": 4,
     "metadata": {},
     "output_type": "execute_result"
    }
   ],
   "source": [
    "data.columns"
   ]
  },
  {
   "cell_type": "markdown",
   "id": "5390101e-e59f-4911-a9e2-417185f8ca44",
   "metadata": {},
   "source": [
    "<h2>Model Training Loss & Mean Squared Error </h2>\n",
    "\n",
    "The chart below suggests that there is little to no overfitting happened to the model as the trend of the training loss is continuously going down. \n",
    "\n",
    "The MSE we attained on this model is : Mean Squared Error (MSE): 0.0.00021267746259287978"
   ]
  },
  {
   "cell_type": "code",
   "execution_count": 5,
   "id": "3079fcbf-4403-4d6d-ba40-4624ad490314",
   "metadata": {
    "tags": []
   },
   "outputs": [
    {
     "data": {
      "image/png": "[encoded data removed]",
      "text/plain": [
       "<Figure size 1200x600 with 2 Axes>"
      ]
     },
     "metadata": {},
     "output_type": "display_data"
    }
   ],
   "source": [
    "import matplotlib.pyplot as plt\n",
    "import seaborn as sns\n",
    "import numpy as np\n",
    "from sklearn.metrics import mean_squared_error\n",
    "\n",
    "# Create a color map for vendor ratings\n",
    "color_map = sns.color_palette(\"viridis\", as_cmap=True)\n",
    "\n",
    "# Plotting\n",
    "plt.figure(figsize=(12, 6))\n",
    "\n",
    "# Plot training loss\n",
    "plt.subplot(1, 2, 1)\n",
    "plt.plot(history.history['loss'], label='Training Loss')\n",
    "plt.title('Model Training Loss')\n",
    "plt.xlabel('Epoch')\n",
    "plt.ylabel('Loss')\n",
    "plt.legend()\n",
    "\n",
    "# Plot MSE\n",
    "plt.subplot(1, 2, 2)\n",
    "plt.plot(history.history['mse'], label='MSE')  # Assuming 'mse' is part of the model metrics\n",
    "plt.title('Mean Squared Error (MSE)')\n",
    "plt.xlabel('Epoch')\n",
    "plt.ylabel('MSE')\n",
    "plt.legend()\n",
    "\n",
    "plt.tight_layout()\n",
    "plt.show()\n"
   ]
  },
  {
   "cell_type": "code",
   "execution_count": 6,
   "id": "fb23ae27-f214-4a5c-b9dc-d91b8bf3a5d9",
   "metadata": {
    "tags": []
   },
   "outputs": [
    {
     "name": "stdout",
     "output_type": "stream",
     "text": [
      "1/1 [==============================] - 0s 230ms/step\n",
      "Recommendations for User 2:\n",
      "       vendor_id            vendor_name  predicted_rating\n",
      "13335          3  Lolo Thomas' Catering          4.002783\n",
      "14202          8              GrilledUp          4.001440\n",
      "8867           7                Ayumers          4.000275\n"
     ]
    }
   ],
   "source": [
    "# Assuming 'model' is already trained, you can use the following code to generate recommendations\n",
    "\n",
    "# Generate recommendations for a specific user\n",
    "user_id_to_recommend_for = 2  # Replace with the user ID you want to recommend for\n",
    "user_rated_vendors = train_df[train_df['customer_id'] == user_id_to_recommend_for]['vendor_id']\n",
    "\n",
    "# Create input for the model\n",
    "user_input = np.full(len(data['vendor_id'].unique()), user_id_to_recommend_for)\n",
    "other_features_input = data[data['customer_id'] == user_id_to_recommend_for][['item_count', 'grand_total_php', 'deliverydistance', 'preparationtime', 'LOCATION_NUMBER', 'vendor_rating']].values\n",
    "\n",
    "# Predict ratings for all vendors\n",
    "all_vendors = pd.DataFrame({'vendor_id': data['vendor_id'].unique()})\n",
    "all_vendors['predicted_rating'] = model.predict([user_input, all_vendors['vendor_id'], np.tile(other_features_input, (len(all_vendors), 1))])\n",
    "\n",
    "# Merge with the original data to get vendor information\n",
    "all_vendors = pd.merge(all_vendors, data[['vendor_id', 'vendor_name', 'vendor_rating']], on='vendor_id', how='left')\n",
    "\n",
    "# Sort vendors by predicted rating in descending order\n",
    "recommended_vendors = all_vendors.sort_values(by='predicted_rating', ascending=False)\n",
    "\n",
    "# Exclude vendors already rated by the user\n",
    "recommended_vendors = recommended_vendors[~recommended_vendors['vendor_id'].isin(user_rated_vendors)]\n",
    "\n",
    "# Get the top 3 recommendations\n",
    "top_recommendations = recommended_vendors.groupby('vendor_name').head(1).head(3)[['vendor_id', 'vendor_name', 'predicted_rating']]\n",
    "\n",
    "print(f\"Recommendations for User {user_id_to_recommend_for}:\\n{top_recommendations}\")\n"
   ]
  },
  {
   "cell_type": "code",
   "execution_count": 7,
   "id": "28f7b646-18be-4dce-bff8-2a08b194bbdd",
   "metadata": {
    "tags": []
   },
   "outputs": [
    {
     "name": "stdout",
     "output_type": "stream",
     "text": [
      "117/117 [==============================] - 0s 1ms/step\n",
      "Mean Squared Error (MSE): 0.00021267746259287978\n"
     ]
    }
   ],
   "source": [
    "from sklearn.metrics import mean_squared_error\n",
    "\n",
    "# Get model predictions on the test set\n",
    "input_columns = ['item_count', 'grand_total_php', 'deliverydistance', 'preparationtime', 'LOCATION_NUMBER', 'vendor_rating']\n",
    "predictions = model.predict([test_df['customer_id'].values, test_df['vendor_id'].values, test_df[input_columns].values])\n",
    "\n",
    "# Flatten the predictions (assuming output is a single value per prediction)\n",
    "predictions = predictions.flatten()\n",
    "\n",
    "# Calculate Mean Squared Error\n",
    "mse = mean_squared_error(test_df['vendor_rating'], predictions)\n",
    "\n",
    "print(f\"Mean Squared Error (MSE): {mse}\")\n"
   ]
  },
  {
   "cell_type": "markdown",
   "id": "e3f2e019-e566-498d-b10f-21ab1dee9395",
   "metadata": {},
   "source": [
    "<h2>Model Conversion to Tensorflow Lite </h2>"
   ]
  },
  {
   "cell_type": "code",
   "execution_count": 8,
   "id": "c96ffb04-0718-414e-a309-89e37752674a",
   "metadata": {},
   "outputs": [
    {
     "name": "stderr",
     "output_type": "stream",
     "text": [
      "C:\\Users\\Mark Spencer\\anaconda3\\Lib\\site-packages\\keras\\src\\engine\\training.py:3103: UserWarning: You are saving your model as an HDF5 file via `model.save()`. This file format is considered legacy. We recommend using instead the native Keras format, e.g. `model.save('my_model.keras')`.\n",
      "  saving_api.save_model(\n"
     ]
    },
    {
     "name": "stdout",
     "output_type": "stream",
     "text": [
      "INFO:tensorflow:Assets written to: C:\\Users\\MARKSP~1\\AppData\\Local\\Temp\\tmpvc0pcmwe\\assets\n"
     ]
    },
    {
     "name": "stderr",
     "output_type": "stream",
     "text": [
      "INFO:tensorflow:Assets written to: C:\\Users\\MARKSP~1\\AppData\\Local\\Temp\\tmpvc0pcmwe\\assets\n"
     ]
    }
   ],
   "source": [
    "import tensorflow as tf\n",
    "from tensorflow import keras\n",
    "import numpy as np\n",
    "import pandas as pd\n",
    "\n",
    "# Assuming 'model' is already trained\n",
    "\n",
    "# Save the Keras model to a file\n",
    "model.save('recommendation_model.h5')\n",
    "\n",
    "# Load the saved model\n",
    "loaded_model = keras.models.load_model('recommendation_model.h5')\n",
    "\n",
    "# Convert the model to TensorFlow Lite format\n",
    "converter = tf.lite.TFLiteConverter.from_keras_model(loaded_model)\n",
    "tflite_model = converter.convert()\n",
    "\n",
    "# Save the TensorFlow Lite model to a file\n",
    "with open('recommendation_model.tflite', 'wb') as f:\n",
    "    f.write(tflite_model)\n",
    "\n",
    "# You can now download 'recommendation_model.tflite' and use it for inference on mobile or edge devices.\n"
   ]
  }
 ],
 "metadata": {
  "kernelspec": {
   "display_name": "Python 3 (ipykernel)",
   "language": "python",
   "name": "python3"
  },
  "language_info": {
   "codemirror_mode": {
    "name": "ipython",
    "version": 3
   },
   "file_extension": ".py",
   "mimetype": "text/x-python",
   "name": "python",
   "nbconvert_exporter": "python",
   "pygments_lexer": "ipython3",
   "version": "3.11.5"
  }
 },
 "nbformat": 4,
 "nbformat_minor": 5
}
